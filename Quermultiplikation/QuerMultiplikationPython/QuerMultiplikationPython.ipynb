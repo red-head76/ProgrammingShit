{
 "cells": [
  {
   "cell_type": "code",
   "execution_count": null,
   "metadata": {},
   "outputs": [],
   "source": []
  },
  {
   "cell_type": "code",
   "execution_count": 15,
   "metadata": {},
   "outputs": [
    {
     "name": "stdout",
     "output_type": "stream",
     "text": [
      "77 4\n"
     ]
    }
   ],
   "source": [
    "def Quermultiplikation(n):\n",
    "    NeueZahl = 1\n",
    "    counter = 1\n",
    "\n",
    "\n",
    "    while n > 0:\n",
    "        LetzteZiffer = n%10\n",
    "        NeueZahl = NeueZahl*LetzteZiffer\n",
    "        n = round(n//10)\n",
    "\n",
    "        if n == 0 and NeueZahl > 10:\n",
    "            n = NeueZahl\n",
    "            NeueZahl = 1\n",
    "            counter +=1\n",
    "    return(counter)\n",
    "Quermultiplikation(75)\n",
    "\n",
    "def Zahlentest(lb,ub):\n",
    "    counterMax = 1\n",
    "    ZahlMax = 0\n",
    "    for i in range(lb,ub+1):\n",
    "        Quermultiplikation(i)\n",
    "        if Quermultiplikation(i) > counterMax:\n",
    "            counterMax = Quermultiplikation(i)\n",
    "            ZahlMax = i\n",
    "    print(ZahlMax,counterMax)\n",
    "Zahlentest(1,100)"
   ]
  },
  {
   "cell_type": "code",
   "execution_count": 4,
   "metadata": {},
   "outputs": [
    {
     "data": {
      "text/plain": [
       "[4, 5, 6]"
      ]
     },
     "execution_count": 4,
     "metadata": {},
     "output_type": "execute_result"
    }
   ],
   "source": [
    "list(range(4,7))"
   ]
  },
  {
   "cell_type": "code",
   "execution_count": null,
   "metadata": {},
   "outputs": [],
   "source": []
  }
 ],
 "metadata": {
  "kernelspec": {
   "display_name": "Python 3",
   "language": "python",
   "name": "python3"
  },
  "language_info": {
   "codemirror_mode": {
    "name": "ipython",
    "version": 3
   },
   "file_extension": ".py",
   "mimetype": "text/x-python",
   "name": "python",
   "nbconvert_exporter": "python",
   "pygments_lexer": "ipython3",
   "version": "3.6.7"
  }
 },
 "nbformat": 4,
 "nbformat_minor": 2
}
